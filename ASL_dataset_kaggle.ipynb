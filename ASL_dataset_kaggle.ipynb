{
 "cells": [
  {
   "cell_type": "code",
   "execution_count": 92,
   "id": "ec444c08",
   "metadata": {},
   "outputs": [
    {
     "name": "stdout",
     "output_type": "stream",
     "text": [
      "2.10.0\n"
     ]
    }
   ],
   "source": [
    "import tensorflow as tf\n",
    "print(tf.__version__)"
   ]
  },
  {
   "cell_type": "code",
   "execution_count": 93,
   "id": "a69d6ede",
   "metadata": {},
   "outputs": [],
   "source": [
    "# lib\n",
    "import numpy as np\n",
    "import pandas as pd\n",
    "import matplotlib.pyplot as plt \n",
    "import seaborn as sns \n",
    "import os\n",
    "from random import shuffle\n",
    "# from tqdm import *\n",
    "from keras.utils.np_utils import to_categorical\n",
    "from keras.models import Sequential\n",
    "from keras.layers import Dense, Dropout, Flatten, Conv2D, MaxPool2D\n",
    "from keras.models import Sequential\n",
    "from keras.layers import Conv2D, MaxPooling2D, Dense, Flatten, Dropout\n",
    "from keras.optimizers import Adam"
   ]
  },
  {
   "cell_type": "code",
   "execution_count": 94,
   "id": "eecfdca2",
   "metadata": {},
   "outputs": [
    {
     "name": "stdout",
     "output_type": "stream",
     "text": [
      "Requirement already satisfied: tqdm in c:\\nguyenduchau\\lvtn\\project\\env\\lib\\site-packages (4.64.1)\n",
      "Requirement already satisfied: colorama in c:\\nguyenduchau\\lvtn\\project\\env\\lib\\site-packages (from tqdm) (0.4.6)\n"
     ]
    }
   ],
   "source": [
    "!pip install tqdm"
   ]
  },
  {
   "cell_type": "code",
   "execution_count": 95,
   "id": "879c92d6",
   "metadata": {},
   "outputs": [],
   "source": [
    "from tqdm import *"
   ]
  },
  {
   "cell_type": "code",
   "execution_count": 96,
   "id": "c67919cb",
   "metadata": {},
   "outputs": [],
   "source": [
    "train = pd.read_csv('data/sign_mnist_train.csv')\n",
    "test = pd.read_csv('data/sign_mnist_test.csv')"
   ]
  },
  {
   "cell_type": "code",
   "execution_count": 97,
   "id": "64045ebe",
   "metadata": {},
   "outputs": [
    {
     "data": {
      "text/plain": [
       "Text(0.5, 1.0, 'Label')"
      ]
     },
     "execution_count": 97,
     "metadata": {},
     "output_type": "execute_result"
    },
    {
     "data": {
      "image/png": "[encoded data removed]",
      "text/plain": [
       "<Figure size 1800x1800 with 1 Axes>"
      ]
     },
     "metadata": {},
     "output_type": "display_data"
    }
   ],
   "source": [
    "# visualization \n",
    "fig = plt.figure(figsize=(18,18))\n",
    "ax1 = fig.add_subplot(221)\n",
    "train['label'].value_counts().plot(kind='bar', ax=ax1)\n",
    "ax1.set_ylabel('Count')\n",
    "ax1.set_title('Label')\n",
    "# không cần tăng cường dữ liệu"
   ]
  },
  {
   "cell_type": "code",
   "execution_count": 98,
   "id": "7e17de89",
   "metadata": {},
   "outputs": [
    {
     "data": {
      "text/html": [
       "<div>\n",
       "<style scoped>\n",
       "    .dataframe tbody tr th:only-of-type {\n",
       "        vertical-align: middle;\n",
       "    }\n",
       "\n",
       "    .dataframe tbody tr th {\n",
       "        vertical-align: top;\n",
       "    }\n",
       "\n",
       "    .dataframe thead th {\n",
       "        text-align: right;\n",
       "    }\n",
       "</style>\n",
       "<table border=\"1\" class=\"dataframe\">\n",
       "  <thead>\n",
       "    <tr style=\"text-align: right;\">\n",
       "      <th></th>\n",
       "      <th>label</th>\n",
       "      <th>pixel1</th>\n",
       "      <th>pixel2</th>\n",
       "      <th>pixel3</th>\n",
       "      <th>pixel4</th>\n",
       "      <th>pixel5</th>\n",
       "      <th>pixel6</th>\n",
       "      <th>pixel7</th>\n",
       "      <th>pixel8</th>\n",
       "      <th>pixel9</th>\n",
       "      <th>...</th>\n",
       "      <th>pixel775</th>\n",
       "      <th>pixel776</th>\n",
       "      <th>pixel777</th>\n",
       "      <th>pixel778</th>\n",
       "      <th>pixel779</th>\n",
       "      <th>pixel780</th>\n",
       "      <th>pixel781</th>\n",
       "      <th>pixel782</th>\n",
       "      <th>pixel783</th>\n",
       "      <th>pixel784</th>\n",
       "    </tr>\n",
       "  </thead>\n",
       "  <tbody>\n",
       "    <tr>\n",
       "      <th>0</th>\n",
       "      <td>3</td>\n",
       "      <td>107</td>\n",
       "      <td>118</td>\n",
       "      <td>127</td>\n",
       "      <td>134</td>\n",
       "      <td>139</td>\n",
       "      <td>143</td>\n",
       "      <td>146</td>\n",
       "      <td>150</td>\n",
       "      <td>153</td>\n",
       "      <td>...</td>\n",
       "      <td>207</td>\n",
       "      <td>207</td>\n",
       "      <td>207</td>\n",
       "      <td>207</td>\n",
       "      <td>206</td>\n",
       "      <td>206</td>\n",
       "      <td>206</td>\n",
       "      <td>204</td>\n",
       "      <td>203</td>\n",
       "      <td>202</td>\n",
       "    </tr>\n",
       "    <tr>\n",
       "      <th>1</th>\n",
       "      <td>6</td>\n",
       "      <td>155</td>\n",
       "      <td>157</td>\n",
       "      <td>156</td>\n",
       "      <td>156</td>\n",
       "      <td>156</td>\n",
       "      <td>157</td>\n",
       "      <td>156</td>\n",
       "      <td>158</td>\n",
       "      <td>158</td>\n",
       "      <td>...</td>\n",
       "      <td>69</td>\n",
       "      <td>149</td>\n",
       "      <td>128</td>\n",
       "      <td>87</td>\n",
       "      <td>94</td>\n",
       "      <td>163</td>\n",
       "      <td>175</td>\n",
       "      <td>103</td>\n",
       "      <td>135</td>\n",
       "      <td>149</td>\n",
       "    </tr>\n",
       "    <tr>\n",
       "      <th>2</th>\n",
       "      <td>2</td>\n",
       "      <td>187</td>\n",
       "      <td>188</td>\n",
       "      <td>188</td>\n",
       "      <td>187</td>\n",
       "      <td>187</td>\n",
       "      <td>186</td>\n",
       "      <td>187</td>\n",
       "      <td>188</td>\n",
       "      <td>187</td>\n",
       "      <td>...</td>\n",
       "      <td>202</td>\n",
       "      <td>201</td>\n",
       "      <td>200</td>\n",
       "      <td>199</td>\n",
       "      <td>198</td>\n",
       "      <td>199</td>\n",
       "      <td>198</td>\n",
       "      <td>195</td>\n",
       "      <td>194</td>\n",
       "      <td>195</td>\n",
       "    </tr>\n",
       "    <tr>\n",
       "      <th>3</th>\n",
       "      <td>2</td>\n",
       "      <td>211</td>\n",
       "      <td>211</td>\n",
       "      <td>212</td>\n",
       "      <td>212</td>\n",
       "      <td>211</td>\n",
       "      <td>210</td>\n",
       "      <td>211</td>\n",
       "      <td>210</td>\n",
       "      <td>210</td>\n",
       "      <td>...</td>\n",
       "      <td>235</td>\n",
       "      <td>234</td>\n",
       "      <td>233</td>\n",
       "      <td>231</td>\n",
       "      <td>230</td>\n",
       "      <td>226</td>\n",
       "      <td>225</td>\n",
       "      <td>222</td>\n",
       "      <td>229</td>\n",
       "      <td>163</td>\n",
       "    </tr>\n",
       "    <tr>\n",
       "      <th>4</th>\n",
       "      <td>13</td>\n",
       "      <td>164</td>\n",
       "      <td>167</td>\n",
       "      <td>170</td>\n",
       "      <td>172</td>\n",
       "      <td>176</td>\n",
       "      <td>179</td>\n",
       "      <td>180</td>\n",
       "      <td>184</td>\n",
       "      <td>185</td>\n",
       "      <td>...</td>\n",
       "      <td>92</td>\n",
       "      <td>105</td>\n",
       "      <td>105</td>\n",
       "      <td>108</td>\n",
       "      <td>133</td>\n",
       "      <td>163</td>\n",
       "      <td>157</td>\n",
       "      <td>163</td>\n",
       "      <td>164</td>\n",
       "      <td>179</td>\n",
       "    </tr>\n",
       "  </tbody>\n",
       "</table>\n",
       "<p>5 rows × 785 columns</p>\n",
       "</div>"
      ],
      "text/plain": [
       "   label  pixel1  pixel2  pixel3  pixel4  pixel5  pixel6  pixel7  pixel8  \\\n",
       "0      3     107     118     127     134     139     143     146     150   \n",
       "1      6     155     157     156     156     156     157     156     158   \n",
       "2      2     187     188     188     187     187     186     187     188   \n",
       "3      2     211     211     212     212     211     210     211     210   \n",
       "4     13     164     167     170     172     176     179     180     184   \n",
       "\n",
       "   pixel9  ...  pixel775  pixel776  pixel777  pixel778  pixel779  pixel780  \\\n",
       "0     153  ...       207       207       207       207       206       206   \n",
       "1     158  ...        69       149       128        87        94       163   \n",
       "2     187  ...       202       201       200       199       198       199   \n",
       "3     210  ...       235       234       233       231       230       226   \n",
       "4     185  ...        92       105       105       108       133       163   \n",
       "\n",
       "   pixel781  pixel782  pixel783  pixel784  \n",
       "0       206       204       203       202  \n",
       "1       175       103       135       149  \n",
       "2       198       195       194       195  \n",
       "3       225       222       229       163  \n",
       "4       157       163       164       179  \n",
       "\n",
       "[5 rows x 785 columns]"
      ]
     },
     "execution_count": 98,
     "metadata": {},
     "output_type": "execute_result"
    }
   ],
   "source": [
    "train.head()"
   ]
  },
  {
   "cell_type": "code",
   "execution_count": 99,
   "id": "cf6c1eb5",
   "metadata": {},
   "outputs": [
    {
     "data": {
      "text/html": [
       "<div>\n",
       "<style scoped>\n",
       "    .dataframe tbody tr th:only-of-type {\n",
       "        vertical-align: middle;\n",
       "    }\n",
       "\n",
       "    .dataframe tbody tr th {\n",
       "        vertical-align: top;\n",
       "    }\n",
       "\n",
       "    .dataframe thead th {\n",
       "        text-align: right;\n",
       "    }\n",
       "</style>\n",
       "<table border=\"1\" class=\"dataframe\">\n",
       "  <thead>\n",
       "    <tr style=\"text-align: right;\">\n",
       "      <th></th>\n",
       "      <th>label</th>\n",
       "      <th>pixel1</th>\n",
       "      <th>pixel2</th>\n",
       "      <th>pixel3</th>\n",
       "      <th>pixel4</th>\n",
       "      <th>pixel5</th>\n",
       "      <th>pixel6</th>\n",
       "      <th>pixel7</th>\n",
       "      <th>pixel8</th>\n",
       "      <th>pixel9</th>\n",
       "      <th>...</th>\n",
       "      <th>pixel775</th>\n",
       "      <th>pixel776</th>\n",
       "      <th>pixel777</th>\n",
       "      <th>pixel778</th>\n",
       "      <th>pixel779</th>\n",
       "      <th>pixel780</th>\n",
       "      <th>pixel781</th>\n",
       "      <th>pixel782</th>\n",
       "      <th>pixel783</th>\n",
       "      <th>pixel784</th>\n",
       "    </tr>\n",
       "  </thead>\n",
       "  <tbody>\n",
       "    <tr>\n",
       "      <th>0</th>\n",
       "      <td>6</td>\n",
       "      <td>149</td>\n",
       "      <td>149</td>\n",
       "      <td>150</td>\n",
       "      <td>150</td>\n",
       "      <td>150</td>\n",
       "      <td>151</td>\n",
       "      <td>151</td>\n",
       "      <td>150</td>\n",
       "      <td>151</td>\n",
       "      <td>...</td>\n",
       "      <td>138</td>\n",
       "      <td>148</td>\n",
       "      <td>127</td>\n",
       "      <td>89</td>\n",
       "      <td>82</td>\n",
       "      <td>96</td>\n",
       "      <td>106</td>\n",
       "      <td>112</td>\n",
       "      <td>120</td>\n",
       "      <td>107</td>\n",
       "    </tr>\n",
       "    <tr>\n",
       "      <th>1</th>\n",
       "      <td>5</td>\n",
       "      <td>126</td>\n",
       "      <td>128</td>\n",
       "      <td>131</td>\n",
       "      <td>132</td>\n",
       "      <td>133</td>\n",
       "      <td>134</td>\n",
       "      <td>135</td>\n",
       "      <td>135</td>\n",
       "      <td>136</td>\n",
       "      <td>...</td>\n",
       "      <td>47</td>\n",
       "      <td>104</td>\n",
       "      <td>194</td>\n",
       "      <td>183</td>\n",
       "      <td>186</td>\n",
       "      <td>184</td>\n",
       "      <td>184</td>\n",
       "      <td>184</td>\n",
       "      <td>182</td>\n",
       "      <td>180</td>\n",
       "    </tr>\n",
       "    <tr>\n",
       "      <th>2</th>\n",
       "      <td>10</td>\n",
       "      <td>85</td>\n",
       "      <td>88</td>\n",
       "      <td>92</td>\n",
       "      <td>96</td>\n",
       "      <td>105</td>\n",
       "      <td>123</td>\n",
       "      <td>135</td>\n",
       "      <td>143</td>\n",
       "      <td>147</td>\n",
       "      <td>...</td>\n",
       "      <td>68</td>\n",
       "      <td>166</td>\n",
       "      <td>242</td>\n",
       "      <td>227</td>\n",
       "      <td>230</td>\n",
       "      <td>227</td>\n",
       "      <td>226</td>\n",
       "      <td>225</td>\n",
       "      <td>224</td>\n",
       "      <td>222</td>\n",
       "    </tr>\n",
       "    <tr>\n",
       "      <th>3</th>\n",
       "      <td>0</td>\n",
       "      <td>203</td>\n",
       "      <td>205</td>\n",
       "      <td>207</td>\n",
       "      <td>206</td>\n",
       "      <td>207</td>\n",
       "      <td>209</td>\n",
       "      <td>210</td>\n",
       "      <td>209</td>\n",
       "      <td>210</td>\n",
       "      <td>...</td>\n",
       "      <td>154</td>\n",
       "      <td>248</td>\n",
       "      <td>247</td>\n",
       "      <td>248</td>\n",
       "      <td>253</td>\n",
       "      <td>236</td>\n",
       "      <td>230</td>\n",
       "      <td>240</td>\n",
       "      <td>253</td>\n",
       "      <td>255</td>\n",
       "    </tr>\n",
       "    <tr>\n",
       "      <th>4</th>\n",
       "      <td>3</td>\n",
       "      <td>188</td>\n",
       "      <td>191</td>\n",
       "      <td>193</td>\n",
       "      <td>195</td>\n",
       "      <td>199</td>\n",
       "      <td>201</td>\n",
       "      <td>202</td>\n",
       "      <td>203</td>\n",
       "      <td>203</td>\n",
       "      <td>...</td>\n",
       "      <td>26</td>\n",
       "      <td>40</td>\n",
       "      <td>64</td>\n",
       "      <td>48</td>\n",
       "      <td>29</td>\n",
       "      <td>46</td>\n",
       "      <td>49</td>\n",
       "      <td>46</td>\n",
       "      <td>46</td>\n",
       "      <td>53</td>\n",
       "    </tr>\n",
       "  </tbody>\n",
       "</table>\n",
       "<p>5 rows × 785 columns</p>\n",
       "</div>"
      ],
      "text/plain": [
       "   label  pixel1  pixel2  pixel3  pixel4  pixel5  pixel6  pixel7  pixel8  \\\n",
       "0      6     149     149     150     150     150     151     151     150   \n",
       "1      5     126     128     131     132     133     134     135     135   \n",
       "2     10      85      88      92      96     105     123     135     143   \n",
       "3      0     203     205     207     206     207     209     210     209   \n",
       "4      3     188     191     193     195     199     201     202     203   \n",
       "\n",
       "   pixel9  ...  pixel775  pixel776  pixel777  pixel778  pixel779  pixel780  \\\n",
       "0     151  ...       138       148       127        89        82        96   \n",
       "1     136  ...        47       104       194       183       186       184   \n",
       "2     147  ...        68       166       242       227       230       227   \n",
       "3     210  ...       154       248       247       248       253       236   \n",
       "4     203  ...        26        40        64        48        29        46   \n",
       "\n",
       "   pixel781  pixel782  pixel783  pixel784  \n",
       "0       106       112       120       107  \n",
       "1       184       184       182       180  \n",
       "2       226       225       224       222  \n",
       "3       230       240       253       255  \n",
       "4        49        46        46        53  \n",
       "\n",
       "[5 rows x 785 columns]"
      ]
     },
     "execution_count": 99,
     "metadata": {},
     "output_type": "execute_result"
    }
   ],
   "source": [
    "test.head()"
   ]
  },
  {
   "cell_type": "code",
   "execution_count": 100,
   "id": "d2b2b000",
   "metadata": {},
   "outputs": [
    {
     "data": {
      "text/plain": [
       "array([ 0,  1,  2,  3,  4,  5,  6,  7,  8, 10, 11, 12, 13, 14, 15, 16, 17,\n",
       "       18, 19, 20, 21, 22, 23, 24], dtype=int64)"
      ]
     },
     "execution_count": 100,
     "metadata": {},
     "output_type": "execute_result"
    }
   ],
   "source": [
    "# lấy cột labels\n",
    "labels = np.unique(np.array(train.label.values))\n",
    "labels"
   ]
  },
  {
   "cell_type": "code",
   "execution_count": 101,
   "id": "b7854adc",
   "metadata": {},
   "outputs": [],
   "source": [
    "train_data = train.iloc[:,1:].values\n",
    "test_data = test.iloc[:,1:].values\n",
    "train_label = train['label'].values\n",
    "test_label = test['label'].values\n",
    "\n",
    "# reshape images to 28x28 and normalize data\n",
    "train_data = np.array(train_data).reshape((-1, 1, 28, 28)).astype(np.uint8) / 255.0\n",
    "test_data = np.array(test_data).reshape((-1, 1, 28, 28)).astype(np.uint8) / 255.0\n",
    "train_label = to_categorical(train_label, 25).astype(np.uint8)\n",
    "test_label = to_categorical(test_label, 25).astype(np.uint8)\n",
    "# train_label\n",
    "# train_label.shape"
   ]
  },
  {
   "cell_type": "code",
   "execution_count": 102,
   "id": "ac3e12ba",
   "metadata": {},
   "outputs": [
    {
     "name": "stdout",
     "output_type": "stream",
     "text": [
      "test ảnh index = 23932\n",
      "onhot vector\n",
      "[0 0 0 0 0 0 0 0 0 0 1 0 0 0 0 0 0 0 0 0 0 0 0 0 0]\n"
     ]
    },
    {
     "data": {
      "text/plain": [
       "<matplotlib.image.AxesImage at 0x2adaac4cf40>"
      ]
     },
     "execution_count": 102,
     "metadata": {},
     "output_type": "execute_result"
    },
    {
     "data": {
      "image/png": "[encoded data removed]",
      "text/plain": [
       "<Figure size 640x480 with 1 Axes>"
      ]
     },
     "metadata": {},
     "output_type": "display_data"
    }
   ],
   "source": [
    "import random\n",
    "\n",
    "x = random.randint(0,train.shape[0])\n",
    "\n",
    "print(\"test ảnh index = {}\".format(x))\n",
    "print(\"onhot vector\")\n",
    "print(train_label[x])\n",
    "plt.imshow(train_data[x].reshape(28,28), cmap='gray')\n"
   ]
  },
  {
   "cell_type": "code",
   "execution_count": 103,
   "id": "be5b476c",
   "metadata": {},
   "outputs": [],
   "source": [
    "# class_names = ['A', 'B', 'C', 'D', 'E', 'F', 'G', 'H', 'I', 'J', 'K', 'L', 'M', 'N', 'O', 'P', 'Q', 'R', 'S', 'T', 'U', 'V', 'W', 'X', 'Y' ]"
   ]
  },
  {
   "cell_type": "code",
   "execution_count": 104,
   "id": "f0913381",
   "metadata": {
    "scrolled": true
   },
   "outputs": [],
   "source": [
    "model = Sequential()\n",
    "model.add(Conv2D(32, 2, activation='relu', input_shape=(28,28,1)))\n",
    "model.add(Conv2D(64, 2, activation='relu'))\n",
    "model.add(MaxPool2D(pool_size=(2, 2)))\n",
    "model.add(Dropout(0.25))\n",
    "\n",
    "model.add(Conv2D(32, 2, activation='relu'))\n",
    "model.add(Conv2D(64, 2, activation='relu'))\n",
    "model.add(MaxPool2D(pool_size=(2, 2)))\n",
    "model.add(Dropout(0.25))\n",
    "\n",
    "model.add(Conv2D(32, 2, activation='relu'))\n",
    "model.add(Conv2D(64, 2, activation='relu'))\n",
    "model.add(MaxPool2D(pool_size=(2, 2)))\n",
    "model.add(Dropout(0.25))\n",
    "\n",
    "model.add(Flatten())\n",
    "model.add(Dense(1024, activation='relu'))\n",
    "model.add(Dropout(0.5))\n",
    "model.add(Dense(25, activation='softmax'))"
   ]
  },
  {
   "cell_type": "code",
   "execution_count": 105,
   "id": "23c064ff",
   "metadata": {},
   "outputs": [
    {
     "name": "stdout",
     "output_type": "stream",
     "text": [
      "Model: \"sequential_7\"\n",
      "_________________________________________________________________\n",
      " Layer (type)                Output Shape              Param #   \n",
      "=================================================================\n",
      " conv2d_34 (Conv2D)          (None, 27, 27, 32)        160       \n",
      "                                                                 \n",
      " conv2d_35 (Conv2D)          (None, 26, 26, 64)        8256      \n",
      "                                                                 \n",
      " max_pooling2d_18 (MaxPoolin  (None, 13, 13, 64)       0         \n",
      " g2D)                                                            \n",
      "                                                                 \n",
      " dropout_23 (Dropout)        (None, 13, 13, 64)        0         \n",
      "                                                                 \n",
      " conv2d_36 (Conv2D)          (None, 12, 12, 32)        8224      \n",
      "                                                                 \n",
      " conv2d_37 (Conv2D)          (None, 11, 11, 64)        8256      \n",
      "                                                                 \n",
      " max_pooling2d_19 (MaxPoolin  (None, 5, 5, 64)         0         \n",
      " g2D)                                                            \n",
      "                                                                 \n",
      " dropout_24 (Dropout)        (None, 5, 5, 64)          0         \n",
      "                                                                 \n",
      " conv2d_38 (Conv2D)          (None, 4, 4, 32)          8224      \n",
      "                                                                 \n",
      " conv2d_39 (Conv2D)          (None, 3, 3, 64)          8256      \n",
      "                                                                 \n",
      " max_pooling2d_20 (MaxPoolin  (None, 1, 1, 64)         0         \n",
      " g2D)                                                            \n",
      "                                                                 \n",
      " dropout_25 (Dropout)        (None, 1, 1, 64)          0         \n",
      "                                                                 \n",
      " flatten_6 (Flatten)         (None, 64)                0         \n",
      "                                                                 \n",
      " dense_12 (Dense)            (None, 1024)              66560     \n",
      "                                                                 \n",
      " dropout_26 (Dropout)        (None, 1024)              0         \n",
      "                                                                 \n",
      " dense_13 (Dense)            (None, 25)                25625     \n",
      "                                                                 \n",
      "=================================================================\n",
      "Total params: 133,561\n",
      "Trainable params: 133,561\n",
      "Non-trainable params: 0\n",
      "_________________________________________________________________\n"
     ]
    }
   ],
   "source": [
    "\n",
    "model.compile(loss ='categorical_crossentropy', optimizer='adam', metrics =['acc'])\n",
    "model.summary()"
   ]
  },
  {
   "cell_type": "code",
   "execution_count": 106,
   "id": "60607171",
   "metadata": {
    "scrolled": false
   },
   "outputs": [
    {
     "name": "stdout",
     "output_type": "stream",
     "text": [
      "Epoch 1/30\n",
      "215/215 [==============================] - 23s 105ms/step - loss: 2.8120 - acc: 0.1405 - val_loss: 1.9909 - val_acc: 0.3440\n",
      "Epoch 2/30\n",
      "215/215 [==============================] - 24s 112ms/step - loss: 1.5274 - acc: 0.4871 - val_loss: 0.8955 - val_acc: 0.6856\n",
      "Epoch 3/30\n",
      "215/215 [==============================] - 23s 105ms/step - loss: 0.8605 - acc: 0.6943 - val_loss: 0.5995 - val_acc: 0.7800\n",
      "Epoch 4/30\n",
      "215/215 [==============================] - 25s 118ms/step - loss: 0.5979 - acc: 0.7846 - val_loss: 0.4713 - val_acc: 0.8404\n",
      "Epoch 5/30\n",
      "215/215 [==============================] - 24s 113ms/step - loss: 0.4411 - acc: 0.8431 - val_loss: 0.3794 - val_acc: 0.8760\n",
      "Epoch 6/30\n",
      "215/215 [==============================] - 24s 110ms/step - loss: 0.3616 - acc: 0.8700 - val_loss: 0.3604 - val_acc: 0.8808\n",
      "Epoch 7/30\n",
      "215/215 [==============================] - 27s 124ms/step - loss: 0.2970 - acc: 0.8947 - val_loss: 0.3087 - val_acc: 0.8986\n",
      "Epoch 8/30\n",
      "215/215 [==============================] - 29s 133ms/step - loss: 0.2521 - acc: 0.9119 - val_loss: 0.2986 - val_acc: 0.8918\n",
      "Epoch 9/30\n",
      "215/215 [==============================] - 33s 155ms/step - loss: 0.2143 - acc: 0.9254 - val_loss: 0.3495 - val_acc: 0.8940\n",
      "Epoch 10/30\n",
      "215/215 [==============================] - 28s 132ms/step - loss: 0.1863 - acc: 0.9354 - val_loss: 0.2748 - val_acc: 0.9018\n",
      "Epoch 11/30\n",
      "215/215 [==============================] - 26s 119ms/step - loss: 0.1673 - acc: 0.9434 - val_loss: 0.2706 - val_acc: 0.9147\n",
      "Epoch 12/30\n",
      "215/215 [==============================] - 24s 111ms/step - loss: 0.1539 - acc: 0.9473 - val_loss: 0.2373 - val_acc: 0.9286\n",
      "Epoch 13/30\n",
      "215/215 [==============================] - 24s 111ms/step - loss: 0.1418 - acc: 0.9509 - val_loss: 0.2461 - val_acc: 0.9163\n",
      "Epoch 14/30\n",
      "215/215 [==============================] - 23s 107ms/step - loss: 0.1198 - acc: 0.9591 - val_loss: 0.2217 - val_acc: 0.9283\n",
      "Epoch 15/30\n",
      "215/215 [==============================] - 24s 112ms/step - loss: 0.1178 - acc: 0.9598 - val_loss: 0.2770 - val_acc: 0.9288\n",
      "Epoch 16/30\n",
      "215/215 [==============================] - 26s 119ms/step - loss: 0.1126 - acc: 0.9620 - val_loss: 0.2312 - val_acc: 0.9257\n",
      "Epoch 17/30\n",
      "215/215 [==============================] - 26s 120ms/step - loss: 0.0993 - acc: 0.9666 - val_loss: 0.2231 - val_acc: 0.9367\n",
      "Epoch 18/30\n",
      "215/215 [==============================] - 25s 118ms/step - loss: 0.0943 - acc: 0.9681 - val_loss: 0.2244 - val_acc: 0.9279\n",
      "Epoch 19/30\n",
      "215/215 [==============================] - 26s 123ms/step - loss: 0.0863 - acc: 0.9692 - val_loss: 0.2199 - val_acc: 0.9334\n",
      "Epoch 20/30\n",
      "215/215 [==============================] - 26s 120ms/step - loss: 0.0864 - acc: 0.9706 - val_loss: 0.2111 - val_acc: 0.9356\n",
      "Epoch 21/30\n",
      "215/215 [==============================] - 26s 119ms/step - loss: 0.0828 - acc: 0.9720 - val_loss: 0.2453 - val_acc: 0.9412\n",
      "Epoch 22/30\n",
      "215/215 [==============================] - 26s 122ms/step - loss: 0.0786 - acc: 0.9730 - val_loss: 0.2469 - val_acc: 0.9373\n",
      "Epoch 23/30\n",
      "215/215 [==============================] - 28s 129ms/step - loss: 0.0793 - acc: 0.9730 - val_loss: 0.2429 - val_acc: 0.9385\n",
      "Epoch 24/30\n",
      "215/215 [==============================] - 27s 126ms/step - loss: 0.0693 - acc: 0.9768 - val_loss: 0.2631 - val_acc: 0.9343\n",
      "Epoch 25/30\n",
      "215/215 [==============================] - 25s 118ms/step - loss: 0.0700 - acc: 0.9771 - val_loss: 0.2601 - val_acc: 0.9359\n",
      "Epoch 26/30\n",
      "215/215 [==============================] - 25s 116ms/step - loss: 0.0613 - acc: 0.9796 - val_loss: 0.2366 - val_acc: 0.9360\n",
      "Epoch 27/30\n",
      "215/215 [==============================] - 26s 120ms/step - loss: 0.0567 - acc: 0.9806 - val_loss: 0.2426 - val_acc: 0.9426\n",
      "Epoch 28/30\n",
      "215/215 [==============================] - 26s 119ms/step - loss: 0.0641 - acc: 0.9793 - val_loss: 0.2056 - val_acc: 0.9501\n",
      "Epoch 29/30\n",
      "215/215 [==============================] - 25s 116ms/step - loss: 0.0662 - acc: 0.9790 - val_loss: 0.2202 - val_acc: 0.9492\n",
      "Epoch 30/30\n",
      "215/215 [==============================] - 27s 125ms/step - loss: 0.0573 - acc: 0.9800 - val_loss: 0.2078 - val_acc: 0.9385\n"
     ]
    }
   ],
   "source": [
    "X_train = np.array([i[0] for i in train_data]).reshape([-1, 28, 28, 1])\n",
    "y_train = train_label\n",
    "\n",
    "x_test = np.array([i[0] for i in test_data]).reshape([-1, 28, 28, 1])\n",
    "y_test = test_label\n",
    "\n",
    "y_train.shape\n",
    "x_test.shape\n",
    "history = model.fit(X_train,\n",
    "                    y_train,\n",
    "                    batch_size = 128,\n",
    "                    epochs = 30,\n",
    "                    verbose = 1,\n",
    "                    validation_data = (x_test, y_test))"
   ]
  },
  {
   "cell_type": "code",
   "execution_count": 107,
   "id": "02cec7af",
   "metadata": {
    "scrolled": false
   },
   "outputs": [
    {
     "data": {
      "image/png": "[encoded data removed]",
      "text/plain": [
       "<Figure size 640x480 with 1 Axes>"
      ]
     },
     "metadata": {},
     "output_type": "display_data"
    }
   ],
   "source": [
    "loss = history.history['loss']\n",
    "val_loss = history.history['val_loss']\n",
    "epochs = range(1, len(loss) + 1)\n",
    "plt.plot(epochs, loss, 'y', label='Training loss')\n",
    "plt.plot(epochs, val_loss, 'r', label='Validation loss')\n",
    "plt.title('Training and validation loss')\n",
    "plt.xlabel('Epochs')\n",
    "plt.ylabel('Loss')\n",
    "plt.legend()\n",
    "plt.show()"
   ]
  },
  {
   "cell_type": "code",
   "execution_count": 108,
   "id": "fb5d49b3",
   "metadata": {
    "scrolled": true
   },
   "outputs": [
    {
     "data": {
      "image/png": "[encoded data removed]",
      "text/plain": [
       "<Figure size 640x480 with 1 Axes>"
      ]
     },
     "metadata": {},
     "output_type": "display_data"
    }
   ],
   "source": [
    "acc = history.history['acc']\n",
    "val_acc = history.history['val_acc']\n",
    "\n",
    "plt.plot(epochs, acc, 'y', label='Training acc')\n",
    "plt.plot(epochs, val_acc, 'r', label='Validation acc')\n",
    "plt.title('Training and validation accuracy')\n",
    "plt.xlabel('Epochs')\n",
    "plt.ylabel('Accuracy')\n",
    "plt.legend()\n",
    "plt.show()"
   ]
  },
  {
   "cell_type": "code",
   "execution_count": 130,
   "id": "cbbc8fbd",
   "metadata": {},
   "outputs": [],
   "source": [
    "class_names = {1:'A', \n",
    "               2:'B', \n",
    "               3:'C', \n",
    "               4:'D', \n",
    "               5:'E', \n",
    "               5:'F', \n",
    "               6:'G',\n",
    "               7:'H',\n",
    "               8:'I',\n",
    "               9:'J',\n",
    "               10:'K',\n",
    "               11:'L',\n",
    "               12:'M',\n",
    "               13:'N',\n",
    "               14:'O',\n",
    "               15:'P',\n",
    "               16:'Q',\n",
    "               17:'R',\n",
    "               18:'S',\n",
    "               19:'T',\n",
    "               20:'U',\n",
    "               21:'V',\n",
    "               22:'W',\n",
    "               23:'X',\n",
    "               24:'Y' }"
   ]
  },
  {
   "cell_type": "code",
   "execution_count": null,
   "id": "1ac4a5dc",
   "metadata": {},
   "outputs": [],
   "source": [
    "# predict\n",
    "\n",
    "prediction = model.predict(X_test) \n",
    "classes = np.argmax(predict_x,axis=1)\n",
    "\n",
    "from sklearn.metrics import accuracy_score\n",
    "accuracy = accuracy_score(y_test, prediction)\n",
    "print('Accuracy Score = ', accuracy)\n",
    "\n",
    "i = random.randint(1,len(prediction))\n",
    "plt.imshow(X_test[i,:,:,0]) \n",
    "print(\"Predicted Label: \", class_names[int(prediction[i])])\n",
    "print(\"True Label: \", class_names[int(y_test[i])])"
   ]
  },
  {
   "cell_type": "code",
   "execution_count": null,
   "id": "1d453b42",
   "metadata": {},
   "outputs": [],
   "source": []
  }
 ],
 "metadata": {
  "kernelspec": {
   "display_name": "Python 3 (ipykernel)",
   "language": "python",
   "name": "python3"
  },
  "language_info": {
   "codemirror_mode": {
    "name": "ipython",
    "version": 3
   },
   "file_extension": ".py",
   "mimetype": "text/x-python",
   "name": "python",
   "nbconvert_exporter": "python",
   "pygments_lexer": "ipython3",
   "version": "3.10.9"
  }
 },
 "nbformat": 4,
 "nbformat_minor": 5
}
